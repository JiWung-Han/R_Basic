{
 "cells": [
  {
   "cell_type": "markdown",
   "id": "unavailable-report",
   "metadata": {},
   "source": [
    "#### Scatter Plot, star graph, Chernoff faces"
   ]
  },
  {
   "cell_type": "markdown",
   "id": "excited-galaxy",
   "metadata": {},
   "source": [
    "http://www.stat.nthu.edu.tw/~swcheng/Teaching/stat5410/lab/09.03_Collinearity.htm"
   ]
  },
  {
   "cell_type": "code",
   "execution_count": 1,
   "id": "atlantic-malawi",
   "metadata": {},
   "outputs": [
    {
     "data": {
      "text/html": [
       "<table>\n",
       "<thead><tr><th></th><th scope=col>GNP.deflator</th><th scope=col>GNP</th><th scope=col>Unemployed</th><th scope=col>Armed.Forces</th><th scope=col>Population</th><th scope=col>Year</th><th scope=col>Employed</th></tr></thead>\n",
       "<tbody>\n",
       "\t<tr><th scope=row>1947</th><td> 83.0  </td><td>234.289</td><td>235.6  </td><td>159.0  </td><td>107.608</td><td>1947   </td><td>60.323 </td></tr>\n",
       "\t<tr><th scope=row>1948</th><td> 88.5  </td><td>259.426</td><td>232.5  </td><td>145.6  </td><td>108.632</td><td>1948   </td><td>61.122 </td></tr>\n",
       "\t<tr><th scope=row>1949</th><td> 88.2  </td><td>258.054</td><td>368.2  </td><td>161.6  </td><td>109.773</td><td>1949   </td><td>60.171 </td></tr>\n",
       "\t<tr><th scope=row>1950</th><td> 89.5  </td><td>284.599</td><td>335.1  </td><td>165.0  </td><td>110.929</td><td>1950   </td><td>61.187 </td></tr>\n",
       "\t<tr><th scope=row>1951</th><td> 96.2  </td><td>328.975</td><td>209.9  </td><td>309.9  </td><td>112.075</td><td>1951   </td><td>63.221 </td></tr>\n",
       "\t<tr><th scope=row>1952</th><td> 98.1  </td><td>346.999</td><td>193.2  </td><td>359.4  </td><td>113.270</td><td>1952   </td><td>63.639 </td></tr>\n",
       "\t<tr><th scope=row>1953</th><td> 99.0  </td><td>365.385</td><td>187.0  </td><td>354.7  </td><td>115.094</td><td>1953   </td><td>64.989 </td></tr>\n",
       "\t<tr><th scope=row>1954</th><td>100.0  </td><td>363.112</td><td>357.8  </td><td>335.0  </td><td>116.219</td><td>1954   </td><td>63.761 </td></tr>\n",
       "\t<tr><th scope=row>1955</th><td>101.2  </td><td>397.469</td><td>290.4  </td><td>304.8  </td><td>117.388</td><td>1955   </td><td>66.019 </td></tr>\n",
       "\t<tr><th scope=row>1956</th><td>104.6  </td><td>419.180</td><td>282.2  </td><td>285.7  </td><td>118.734</td><td>1956   </td><td>67.857 </td></tr>\n",
       "\t<tr><th scope=row>1957</th><td>108.4  </td><td>442.769</td><td>293.6  </td><td>279.8  </td><td>120.445</td><td>1957   </td><td>68.169 </td></tr>\n",
       "\t<tr><th scope=row>1958</th><td>110.8  </td><td>444.546</td><td>468.1  </td><td>263.7  </td><td>121.950</td><td>1958   </td><td>66.513 </td></tr>\n",
       "\t<tr><th scope=row>1959</th><td>112.6  </td><td>482.704</td><td>381.3  </td><td>255.2  </td><td>123.366</td><td>1959   </td><td>68.655 </td></tr>\n",
       "\t<tr><th scope=row>1960</th><td>114.2  </td><td>502.601</td><td>393.1  </td><td>251.4  </td><td>125.368</td><td>1960   </td><td>69.564 </td></tr>\n",
       "\t<tr><th scope=row>1961</th><td>115.7  </td><td>518.173</td><td>480.6  </td><td>257.2  </td><td>127.852</td><td>1961   </td><td>69.331 </td></tr>\n",
       "\t<tr><th scope=row>1962</th><td>116.9  </td><td>554.894</td><td>400.7  </td><td>282.7  </td><td>130.081</td><td>1962   </td><td>70.551 </td></tr>\n",
       "</tbody>\n",
       "</table>\n"
      ],
      "text/latex": [
       "\\begin{tabular}{r|lllllll}\n",
       "  & GNP.deflator & GNP & Unemployed & Armed.Forces & Population & Year & Employed\\\\\n",
       "\\hline\n",
       "\t1947 &  83.0   & 234.289 & 235.6   & 159.0   & 107.608 & 1947    & 60.323 \\\\\n",
       "\t1948 &  88.5   & 259.426 & 232.5   & 145.6   & 108.632 & 1948    & 61.122 \\\\\n",
       "\t1949 &  88.2   & 258.054 & 368.2   & 161.6   & 109.773 & 1949    & 60.171 \\\\\n",
       "\t1950 &  89.5   & 284.599 & 335.1   & 165.0   & 110.929 & 1950    & 61.187 \\\\\n",
       "\t1951 &  96.2   & 328.975 & 209.9   & 309.9   & 112.075 & 1951    & 63.221 \\\\\n",
       "\t1952 &  98.1   & 346.999 & 193.2   & 359.4   & 113.270 & 1952    & 63.639 \\\\\n",
       "\t1953 &  99.0   & 365.385 & 187.0   & 354.7   & 115.094 & 1953    & 64.989 \\\\\n",
       "\t1954 & 100.0   & 363.112 & 357.8   & 335.0   & 116.219 & 1954    & 63.761 \\\\\n",
       "\t1955 & 101.2   & 397.469 & 290.4   & 304.8   & 117.388 & 1955    & 66.019 \\\\\n",
       "\t1956 & 104.6   & 419.180 & 282.2   & 285.7   & 118.734 & 1956    & 67.857 \\\\\n",
       "\t1957 & 108.4   & 442.769 & 293.6   & 279.8   & 120.445 & 1957    & 68.169 \\\\\n",
       "\t1958 & 110.8   & 444.546 & 468.1   & 263.7   & 121.950 & 1958    & 66.513 \\\\\n",
       "\t1959 & 112.6   & 482.704 & 381.3   & 255.2   & 123.366 & 1959    & 68.655 \\\\\n",
       "\t1960 & 114.2   & 502.601 & 393.1   & 251.4   & 125.368 & 1960    & 69.564 \\\\\n",
       "\t1961 & 115.7   & 518.173 & 480.6   & 257.2   & 127.852 & 1961    & 69.331 \\\\\n",
       "\t1962 & 116.9   & 554.894 & 400.7   & 282.7   & 130.081 & 1962    & 70.551 \\\\\n",
       "\\end{tabular}\n"
      ],
      "text/markdown": [
       "\n",
       "| <!--/--> | GNP.deflator | GNP | Unemployed | Armed.Forces | Population | Year | Employed |\n",
       "|---|---|---|---|---|---|---|---|\n",
       "| 1947 |  83.0   | 234.289 | 235.6   | 159.0   | 107.608 | 1947    | 60.323  |\n",
       "| 1948 |  88.5   | 259.426 | 232.5   | 145.6   | 108.632 | 1948    | 61.122  |\n",
       "| 1949 |  88.2   | 258.054 | 368.2   | 161.6   | 109.773 | 1949    | 60.171  |\n",
       "| 1950 |  89.5   | 284.599 | 335.1   | 165.0   | 110.929 | 1950    | 61.187  |\n",
       "| 1951 |  96.2   | 328.975 | 209.9   | 309.9   | 112.075 | 1951    | 63.221  |\n",
       "| 1952 |  98.1   | 346.999 | 193.2   | 359.4   | 113.270 | 1952    | 63.639  |\n",
       "| 1953 |  99.0   | 365.385 | 187.0   | 354.7   | 115.094 | 1953    | 64.989  |\n",
       "| 1954 | 100.0   | 363.112 | 357.8   | 335.0   | 116.219 | 1954    | 63.761  |\n",
       "| 1955 | 101.2   | 397.469 | 290.4   | 304.8   | 117.388 | 1955    | 66.019  |\n",
       "| 1956 | 104.6   | 419.180 | 282.2   | 285.7   | 118.734 | 1956    | 67.857  |\n",
       "| 1957 | 108.4   | 442.769 | 293.6   | 279.8   | 120.445 | 1957    | 68.169  |\n",
       "| 1958 | 110.8   | 444.546 | 468.1   | 263.7   | 121.950 | 1958    | 66.513  |\n",
       "| 1959 | 112.6   | 482.704 | 381.3   | 255.2   | 123.366 | 1959    | 68.655  |\n",
       "| 1960 | 114.2   | 502.601 | 393.1   | 251.4   | 125.368 | 1960    | 69.564  |\n",
       "| 1961 | 115.7   | 518.173 | 480.6   | 257.2   | 127.852 | 1961    | 69.331  |\n",
       "| 1962 | 116.9   | 554.894 | 400.7   | 282.7   | 130.081 | 1962    | 70.551  |\n",
       "\n"
      ],
      "text/plain": [
       "     GNP.deflator GNP     Unemployed Armed.Forces Population Year Employed\n",
       "1947  83.0        234.289 235.6      159.0        107.608    1947 60.323  \n",
       "1948  88.5        259.426 232.5      145.6        108.632    1948 61.122  \n",
       "1949  88.2        258.054 368.2      161.6        109.773    1949 60.171  \n",
       "1950  89.5        284.599 335.1      165.0        110.929    1950 61.187  \n",
       "1951  96.2        328.975 209.9      309.9        112.075    1951 63.221  \n",
       "1952  98.1        346.999 193.2      359.4        113.270    1952 63.639  \n",
       "1953  99.0        365.385 187.0      354.7        115.094    1953 64.989  \n",
       "1954 100.0        363.112 357.8      335.0        116.219    1954 63.761  \n",
       "1955 101.2        397.469 290.4      304.8        117.388    1955 66.019  \n",
       "1956 104.6        419.180 282.2      285.7        118.734    1956 67.857  \n",
       "1957 108.4        442.769 293.6      279.8        120.445    1957 68.169  \n",
       "1958 110.8        444.546 468.1      263.7        121.950    1958 66.513  \n",
       "1959 112.6        482.704 381.3      255.2        123.366    1959 68.655  \n",
       "1960 114.2        502.601 393.1      251.4        125.368    1960 69.564  \n",
       "1961 115.7        518.173 480.6      257.2        127.852    1961 69.331  \n",
       "1962 116.9        554.894 400.7      282.7        130.081    1962 70.551  "
      ]
     },
     "metadata": {},
     "output_type": "display_data"
    }
   ],
   "source": [
    "longley"
   ]
  },
  {
   "cell_type": "markdown",
   "id": "adjacent-investigator",
   "metadata": {},
   "source": [
    "### 1. Scatter Plot"
   ]
  },
  {
   "cell_type": "code",
   "execution_count": 2,
   "id": "creative-profit",
   "metadata": {
    "scrolled": false
   },
   "outputs": [
    {
     "data": {
      "image/png": "[encoded data removed]",
      "text/plain": [
       "plot without title"
      ]
     },
     "metadata": {},
     "output_type": "display_data"
    }
   ],
   "source": [
    "pairs(longley)"
   ]
  },
  {
   "cell_type": "code",
   "execution_count": 3,
   "id": "featured-prime",
   "metadata": {},
   "outputs": [
    {
     "data": {
      "text/html": [
       "<table>\n",
       "<thead><tr><th></th><th scope=col>GNP.deflator</th><th scope=col>GNP</th><th scope=col>Unemployed</th><th scope=col>Armed.Forces</th><th scope=col>Population</th><th scope=col>Year</th><th scope=col>Employed</th></tr></thead>\n",
       "<tbody>\n",
       "\t<tr><th scope=row>GNP.deflator</th><td>1.000 </td><td>0.992 </td><td> 0.621</td><td> 0.465</td><td>0.979 </td><td>0.991 </td><td>0.971 </td></tr>\n",
       "\t<tr><th scope=row>GNP</th><td>0.992 </td><td>1.000 </td><td> 0.604</td><td> 0.446</td><td>0.991 </td><td>0.995 </td><td>0.984 </td></tr>\n",
       "\t<tr><th scope=row>Unemployed</th><td>0.621 </td><td>0.604 </td><td> 1.000</td><td>-0.177</td><td>0.687 </td><td>0.668 </td><td>0.502 </td></tr>\n",
       "\t<tr><th scope=row>Armed.Forces</th><td>0.465 </td><td>0.446 </td><td>-0.177</td><td> 1.000</td><td>0.364 </td><td>0.417 </td><td>0.457 </td></tr>\n",
       "\t<tr><th scope=row>Population</th><td>0.979 </td><td>0.991 </td><td> 0.687</td><td> 0.364</td><td>1.000 </td><td>0.994 </td><td>0.960 </td></tr>\n",
       "\t<tr><th scope=row>Year</th><td>0.991 </td><td>0.995 </td><td> 0.668</td><td> 0.417</td><td>0.994 </td><td>1.000 </td><td>0.971 </td></tr>\n",
       "\t<tr><th scope=row>Employed</th><td>0.971 </td><td>0.984 </td><td> 0.502</td><td> 0.457</td><td>0.960 </td><td>0.971 </td><td>1.000 </td></tr>\n",
       "</tbody>\n",
       "</table>\n"
      ],
      "text/latex": [
       "\\begin{tabular}{r|lllllll}\n",
       "  & GNP.deflator & GNP & Unemployed & Armed.Forces & Population & Year & Employed\\\\\n",
       "\\hline\n",
       "\tGNP.deflator & 1.000  & 0.992  &  0.621 &  0.465 & 0.979  & 0.991  & 0.971 \\\\\n",
       "\tGNP & 0.992  & 1.000  &  0.604 &  0.446 & 0.991  & 0.995  & 0.984 \\\\\n",
       "\tUnemployed & 0.621  & 0.604  &  1.000 & -0.177 & 0.687  & 0.668  & 0.502 \\\\\n",
       "\tArmed.Forces & 0.465  & 0.446  & -0.177 &  1.000 & 0.364  & 0.417  & 0.457 \\\\\n",
       "\tPopulation & 0.979  & 0.991  &  0.687 &  0.364 & 1.000  & 0.994  & 0.960 \\\\\n",
       "\tYear & 0.991  & 0.995  &  0.668 &  0.417 & 0.994  & 1.000  & 0.971 \\\\\n",
       "\tEmployed & 0.971  & 0.984  &  0.502 &  0.457 & 0.960  & 0.971  & 1.000 \\\\\n",
       "\\end{tabular}\n"
      ],
      "text/markdown": [
       "\n",
       "| <!--/--> | GNP.deflator | GNP | Unemployed | Armed.Forces | Population | Year | Employed |\n",
       "|---|---|---|---|---|---|---|---|\n",
       "| GNP.deflator | 1.000  | 0.992  |  0.621 |  0.465 | 0.979  | 0.991  | 0.971  |\n",
       "| GNP | 0.992  | 1.000  |  0.604 |  0.446 | 0.991  | 0.995  | 0.984  |\n",
       "| Unemployed | 0.621  | 0.604  |  1.000 | -0.177 | 0.687  | 0.668  | 0.502  |\n",
       "| Armed.Forces | 0.465  | 0.446  | -0.177 |  1.000 | 0.364  | 0.417  | 0.457  |\n",
       "| Population | 0.979  | 0.991  |  0.687 |  0.364 | 1.000  | 0.994  | 0.960  |\n",
       "| Year | 0.991  | 0.995  |  0.668 |  0.417 | 0.994  | 1.000  | 0.971  |\n",
       "| Employed | 0.971  | 0.984  |  0.502 |  0.457 | 0.960  | 0.971  | 1.000  |\n",
       "\n"
      ],
      "text/plain": [
       "             GNP.deflator GNP   Unemployed Armed.Forces Population Year \n",
       "GNP.deflator 1.000        0.992  0.621      0.465       0.979      0.991\n",
       "GNP          0.992        1.000  0.604      0.446       0.991      0.995\n",
       "Unemployed   0.621        0.604  1.000     -0.177       0.687      0.668\n",
       "Armed.Forces 0.465        0.446 -0.177      1.000       0.364      0.417\n",
       "Population   0.979        0.991  0.687      0.364       1.000      0.994\n",
       "Year         0.991        0.995  0.668      0.417       0.994      1.000\n",
       "Employed     0.971        0.984  0.502      0.457       0.960      0.971\n",
       "             Employed\n",
       "GNP.deflator 0.971   \n",
       "GNP          0.984   \n",
       "Unemployed   0.502   \n",
       "Armed.Forces 0.457   \n",
       "Population   0.960   \n",
       "Year         0.971   \n",
       "Employed     1.000   "
      ]
     },
     "metadata": {},
     "output_type": "display_data"
    }
   ],
   "source": [
    "round(cor(longley), 3)"
   ]
  },
  {
   "cell_type": "markdown",
   "id": "coordinate-preliminary",
   "metadata": {},
   "source": [
    "### 2. Star graph"
   ]
  },
  {
   "cell_type": "code",
   "execution_count": 4,
   "id": "working-extraction",
   "metadata": {},
   "outputs": [
    {
     "data": {
      "text/html": [
       "<ol class=list-inline>\n",
       "\t<li>'1947'</li>\n",
       "\t<li>'1948'</li>\n",
       "\t<li>'1949'</li>\n",
       "\t<li>'1950'</li>\n",
       "\t<li>'1951'</li>\n",
       "\t<li>'1952'</li>\n",
       "\t<li>'1953'</li>\n",
       "\t<li>'1954'</li>\n",
       "\t<li>'1955'</li>\n",
       "\t<li>'1956'</li>\n",
       "\t<li>'1957'</li>\n",
       "\t<li>'1958'</li>\n",
       "\t<li>'1959'</li>\n",
       "\t<li>'1960'</li>\n",
       "\t<li>'1961'</li>\n",
       "\t<li>'1962'</li>\n",
       "</ol>\n"
      ],
      "text/latex": [
       "\\begin{enumerate*}\n",
       "\\item '1947'\n",
       "\\item '1948'\n",
       "\\item '1949'\n",
       "\\item '1950'\n",
       "\\item '1951'\n",
       "\\item '1952'\n",
       "\\item '1953'\n",
       "\\item '1954'\n",
       "\\item '1955'\n",
       "\\item '1956'\n",
       "\\item '1957'\n",
       "\\item '1958'\n",
       "\\item '1959'\n",
       "\\item '1960'\n",
       "\\item '1961'\n",
       "\\item '1962'\n",
       "\\end{enumerate*}\n"
      ],
      "text/markdown": [
       "1. '1947'\n",
       "2. '1948'\n",
       "3. '1949'\n",
       "4. '1950'\n",
       "5. '1951'\n",
       "6. '1952'\n",
       "7. '1953'\n",
       "8. '1954'\n",
       "9. '1955'\n",
       "10. '1956'\n",
       "11. '1957'\n",
       "12. '1958'\n",
       "13. '1959'\n",
       "14. '1960'\n",
       "15. '1961'\n",
       "16. '1962'\n",
       "\n",
       "\n"
      ],
      "text/plain": [
       " [1] \"1947\" \"1948\" \"1949\" \"1950\" \"1951\" \"1952\" \"1953\" \"1954\" \"1955\" \"1956\"\n",
       "[11] \"1957\" \"1958\" \"1959\" \"1960\" \"1961\" \"1962\""
      ]
     },
     "metadata": {},
     "output_type": "display_data"
    }
   ],
   "source": [
    "rownames(longley)"
   ]
  },
  {
   "cell_type": "code",
   "execution_count": 5,
   "id": "backed-express",
   "metadata": {
    "scrolled": false
   },
   "outputs": [
    {
     "data": {
      "image/png": "[encoded data removed]",
      "text/plain": [
       "plot without title"
      ]
     },
     "metadata": {},
     "output_type": "display_data"
    }
   ],
   "source": [
    "stars(longley)"
   ]
  },
  {
   "cell_type": "markdown",
   "id": "cosmetic-trader",
   "metadata": {},
   "source": [
    "### 3. Chernoff faces"
   ]
  },
  {
   "cell_type": "code",
   "execution_count": 6,
   "id": "faced-dealing",
   "metadata": {},
   "outputs": [
    {
     "ename": "ERROR",
     "evalue": "Error in library(aplpack): there is no package called 'aplpack'\n",
     "output_type": "error",
     "traceback": [
      "Error in library(aplpack): there is no package called 'aplpack'\nTraceback:\n",
      "1. library(aplpack)"
     ]
    }
   ],
   "source": [
    "# install.packages(\"aplpack\") # 처음 한 번만 설치\n",
    "library(aplpack)"
   ]
  },
  {
   "cell_type": "code",
   "execution_count": null,
   "id": "guilty-knitting",
   "metadata": {
    "scrolled": false
   },
   "outputs": [],
   "source": [
    "faces(longley, face.type=2)"
   ]
  }
 ],
 "metadata": {
  "kernelspec": {
   "display_name": "R",
   "language": "R",
   "name": "ir"
  },
  "language_info": {
   "codemirror_mode": "r",
   "file_extension": ".r",
   "mimetype": "text/x-r-source",
   "name": "R",
   "pygments_lexer": "r",
   "version": "3.6.1"
  }
 },
 "nbformat": 4,
 "nbformat_minor": 5
}
